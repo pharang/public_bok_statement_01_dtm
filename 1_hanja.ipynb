{
 "cells": [
  {
   "cell_type": "code",
   "execution_count": 1,
   "id": "ab421bd2-42c3-4339-9297-c7e1ba1939c5",
   "metadata": {},
   "outputs": [],
   "source": [
    "# 한자 처리\n",
    "import os\n",
    "\n",
    "import hanja\n",
    "import pandas as pd\n",
    "from tqdm import tqdm"
   ]
  },
  {
   "cell_type": "code",
   "execution_count": 2,
   "id": "e01c4f91-e8c8-48af-8971-5e04f89dd8ee",
   "metadata": {},
   "outputs": [
    {
     "data": {
      "text/plain": [
       "{'날짜': '1999-01-07',\n",
       " '[도입부]': '1999.1.7일 금융통화위원회는 1999년 1월중 통화정책방향을 의결하였는데, 그 주요내용은 붙임과 같음',\n",
       " '[통화정책방향]': '국내경제는 지난 11월중 수출증대에 힘입어 산업생산이 소폭 증가로 반전되고 소비 및 투자 등 내수도 감소세가 둔화되는 등 경기가 다소 호전되는 움직임을 나타내었음\\n외환시장에서는 경상수지 흑자가 지속되고 외국인투자자금이 꾸준히 유입됨으로써 외환공급 우위기조가 강화되어 원화환율이 큰 폭으로 하락하고 가용외환보유액이 98년 12월말 현재 500억달러에 육박하였음\\n금융시장에서는 물가 및 환율이 안정된 가운데 공개시장조작금리 인하와 향후 경기부양을 위한 확장적 경제정책 운용기대로 장기시장금리가 큰 폭으로 하락하고 은행대출금리도 꾸준히 낮아지면서\\n상업어음할인 등 중소기업대출이 다소 회복되고 CP 및 회사채 발행에 있어 발행대상기업이 확대되고 신용등급별 금리격차가 꾸준히 축소되는 등 신용경색 현상이 완화되는 모습을 보이고 있음\\n한편 강한 금리하락 기대와 낙관적 경제전망 등의 영향으로 금융저축 자금의 일부가 주식시장으로 이동하면서 주가가 급등하는 등 자산가격이 상승하는 움직임을 보였음\\n앞으로도 외환공급우위로 환율절상 압력을 받고 이에 따라 금리하락 기대가 이어지는 한편 경기회복과정에서 풍부한 유동성과 저금리를 바탕으로 자산가격이 불안한 움직임을 보일 가능성이 있음\\n이러한 점을 감안할 때 적절한 외환수급조절을 통해 환율절상 압력이 과도히 커지지 않도록 하여 통화정책이 국내경제여건을 고려하여 탄력적으로 이루어질 수 있도록 노력하는 한편\\n금융자금 이동 및 자산시장 동향을 주의깊게 관찰하면서 그간의 금융완화정책이 실물경제에 파급되는 효과를 면밀히 분석할 필요가 있음\\n이에 따라 1월중 공개시장조작은 외환시장 및 금융시장 여건을 보아가며 콜금리를 약간 하향조정된 수준에서 안정되도록 운영하는 한편 본원통화를 은행의 대출자금수요에 맞추어 공급하는 방향으로 운영함'}"
      ]
     },
     "execution_count": 2,
     "metadata": {},
     "output_type": "execute_result"
    }
   ],
   "source": [
    "# 통화정책결정문 불러오기\n",
    "flist = os.listdir(\"통화정책결정문\")\n",
    "flist = [f for f in flist if f[0] != \".\"]  # .으로 시작하는 파일 제외\n",
    "# file = flist[0]\n",
    "\n",
    "raw_datas = {}\n",
    "\n",
    "for file in flist:  # 파일 하나씩 가져옴\n",
    "\n",
    "    # 파일 불러옴\n",
    "    with open(f\"통화정책결정문/{file}\") as f:\n",
    "        lines = f.readlines()\n",
    "        lines = [line.strip() for line in lines]  # 불필요한 줄바꿈, 공백 제외\n",
    "        lines = [line for line in lines if line]  # 빈 라인 제외\n",
    "\n",
    "    # 파일의 내용 딕셔너리에 정리\n",
    "    data = {}\n",
    "\n",
    "    cate = \"[도입부]\"\n",
    "    data[cate] = []  # 빈 리스트 생성\n",
    "\n",
    "    for line in lines:\n",
    "        if line[0] == \"[\" and line[-1] == \"]\":  # 중괄호로 쌓인 내용의 경우\n",
    "            cate = line  # 해당 라인을 카테고리명으로 사용\n",
    "            \n",
    "            if cate == \"[통화정채방향]\":  # 오타 수정\n",
    "                cate = \"[통화정책방향]\"\n",
    "            \n",
    "            data[cate] = []  # 카테고리 리스트 생성\n",
    "\n",
    "        else:  # 카테고리가 아닌 데이터 내용인 경우\n",
    "            data[cate].append(line)  # 카테고리별로 한줄 추가\n",
    "        \n",
    "    # 처리한 내용 저장\n",
    "    year = file[:4]\n",
    "    month = file[4:6]\n",
    "    day = file[6:8]\n",
    "    \n",
    "    new_name = f\"{year}-{month}-{day}\"\n",
    "    raw_datas[new_name] = data\n",
    "\n",
    "\n",
    "# csv로 저장해두기\n",
    "merged_data = []\n",
    "for k, v in raw_datas.items():\n",
    "    row = {}\n",
    "    row[\"날짜\"] = k\n",
    "    \n",
    "    for cate, content in v.items():\n",
    "        row[cate] = \"\\n\".join(content)\n",
    "    \n",
    "    merged_data.append(row)\n",
    "\n",
    "df = pd.DataFrame(merged_data)\n",
    "# df.to_csv(\"통화정책방향_raw.csv\", index=False)\n",
    "\n",
    "merged_data[0]\n",
    "# merged_data[-1]"
   ]
  },
  {
   "cell_type": "code",
   "execution_count": 3,
   "id": "aeb95ef0-2abc-46b1-8063-09a39f9c3209",
   "metadata": {},
   "outputs": [
    {
     "data": {
      "text/plain": [
       "268"
      ]
     },
     "execution_count": 3,
     "metadata": {},
     "output_type": "execute_result"
    }
   ],
   "source": [
    "len(merged_data)"
   ]
  },
  {
   "cell_type": "code",
   "execution_count": 4,
   "id": "2ad856ce-76dd-404a-bb8d-aa8d5d472078",
   "metadata": {},
   "outputs": [
    {
     "name": "stderr",
     "output_type": "stream",
     "text": [
      "100%|██████████| 268/268 [00:02<00:00, 101.13it/s]\n"
     ]
    }
   ],
   "source": [
    "# 통화정책방향_processed에 저장함, 한자가 있을 경우 '한자처리' 폴더에 저장해놓고 한번 더 처리해서 저장\n",
    "for data in tqdm(merged_data):\n",
    "    filename = data[\"날짜\"]\n",
    "    script = data[\"[통화정책방향]\"]\n",
    "    \n",
    "    # 한자 포함 여부 체크\n",
    "    translate = False\n",
    "    for alp in script:\n",
    "        if hanja.is_hanja(alp):\n",
    "            translate = True\n",
    "            break\n",
    "    \n",
    "    if translate:  # 한자 존재 시 혼용변환으로 우선 처리 (완벽하진 않음)\n",
    "        script = hanja.translate(script, 'combination-text')\n",
    "        filename = \"한자처리/\" + filename  # 한자 처리해야 하는 파일들은 여기에 저장 >> 수동으로 처리한 후 옮기기\n",
    "        \n",
    "    # 저장\n",
    "    with open(f\"통화정책방향_processed/{filename}.txt\", \"w\") as f:\n",
    "        f.write(script)"
   ]
  },
  {
   "cell_type": "code",
   "execution_count": null,
   "id": "40b847d5-c340-481d-972f-c17364ee85b9",
   "metadata": {},
   "outputs": [],
   "source": []
  }
 ],
 "metadata": {
  "kernelspec": {
   "display_name": "Python 3 (ipykernel)",
   "language": "python",
   "name": "python3"
  },
  "language_info": {
   "codemirror_mode": {
    "name": "ipython",
    "version": 3
   },
   "file_extension": ".py",
   "mimetype": "text/x-python",
   "name": "python",
   "nbconvert_exporter": "python",
   "pygments_lexer": "ipython3",
   "version": "3.11.5"
  }
 },
 "nbformat": 4,
 "nbformat_minor": 5
}
